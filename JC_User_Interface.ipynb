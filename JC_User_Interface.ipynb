{
 "cells": [
  {
   "cell_type": "code",
   "execution_count": 1,
   "id": "7378f1c5",
   "metadata": {},
   "outputs": [],
   "source": [
    "#All tools and imports\n",
    "import io\n",
    "import numpy as np\n",
    "import tensorflow as tf\n",
    "from tensorflow import keras\n",
    "from tensorflow.keras.utils import load_img, img_to_array\n",
    "from keras.applications.imagenet_utils import preprocess_input\n",
    "\n",
    "import anvil.media\n",
    "import anvil.server"
   ]
  },
  {
   "cell_type": "code",
   "execution_count": 2,
   "id": "858dd7d6",
   "metadata": {},
   "outputs": [],
   "source": [
    "#Load chosen model (MobilenetV3)\n",
    "model = tf.keras.models.load_model('./models/mn_model.h5')"
   ]
  },
  {
   "cell_type": "code",
   "execution_count": 3,
   "id": "0d31608a",
   "metadata": {},
   "outputs": [],
   "source": [
    "#Function to predict user image\n",
    "def image_prediction(file):\n",
    "   \n",
    "    #Image path\n",
    "    image_path = file\n",
    "\n",
    "    #Processing image\n",
    "    image = keras.preprocessing.image.load_img(image_path, target_size= (224,224))\n",
    "    image_arr = img_to_array(image)\n",
    "    image_arr = np.expand_dims(image, axis=0)\n",
    "\n",
    "    #Predicting User images pic\n",
    "    result = model.predict(image_arr)\n",
    "\n",
    "    prediction = \"Most Likely Species is \"\n",
    "    \n",
    "    if result[0][0] > 0.5:\n",
    "        prediction = prediction + \"Bald Eagle\"\n",
    "        result_score = ((result[0][0]) * 100)\n",
    "    if result[0][1] > 0.5:\n",
    "        prediction = prediction + \"Golden Eagle\"\n",
    "        result_score = ((result[0][1]) * 100)\n",
    "    if result[0][2] > 0.5:\n",
    "        prediction = prediction + \"Red Tailed Hawk\" \n",
    "        result_score = ((result[0][2]) * 100)\n",
    "    \n",
    "    return prediction, result_score"
   ]
  },
  {
   "cell_type": "code",
   "execution_count": 4,
   "id": "5e95d262",
   "metadata": {},
   "outputs": [
    {
     "name": "stdout",
     "output_type": "stream",
     "text": [
      "Connecting to wss://anvil.works/uplink\n",
      "Anvil websocket open\n",
      "Connected to \"Default Environment\" as SERVER\n"
     ]
    }
   ],
   "source": [
    "#Connecting to Anvil Server\n",
    "anvil.server.connect(\"server_LEBLS4DZDUAL75CBE7G7RZPN-CUYK6V63QEF3H45P\")"
   ]
  },
  {
   "cell_type": "code",
   "execution_count": 5,
   "id": "67854aba",
   "metadata": {},
   "outputs": [],
   "source": [
    "#Funtion to connect to Anvil web app\n",
    "@anvil.server.callable\n",
    "def predict_image(file):\n",
    "    with anvil.media.TempFile(file) as filename:\n",
    "        \n",
    "        img = io.BytesIO(file.get_bytes()) \n",
    "        prediction, result_score = image_prediction(img)\n",
    "        \n",
    "    return(prediction, result_score)        "
   ]
  },
  {
   "cell_type": "code",
   "execution_count": 6,
   "id": "e6e5ab98",
   "metadata": {},
   "outputs": [],
   "source": [
    "#Web app address\n",
    "#https://jennifercapstone2023.anvil.app/"
   ]
  }
 ],
 "metadata": {
  "kernelspec": {
   "display_name": "Python 3 (ipykernel)",
   "language": "python",
   "name": "python3"
  },
  "language_info": {
   "codemirror_mode": {
    "name": "ipython",
    "version": 3
   },
   "file_extension": ".py",
   "mimetype": "text/x-python",
   "name": "python",
   "nbconvert_exporter": "python",
   "pygments_lexer": "ipython3",
   "version": "3.9.13"
  }
 },
 "nbformat": 4,
 "nbformat_minor": 5
}
